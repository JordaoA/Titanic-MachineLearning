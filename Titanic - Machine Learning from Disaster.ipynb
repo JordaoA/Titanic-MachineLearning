{
 "cells": [
  {
   "cell_type": "markdown",
   "id": "c7ae95f8",
   "metadata": {},
   "source": [
    "# Titanic - Machine Learning from Disaster\n",
    "\n"
   ]
  },
  {
   "cell_type": "markdown",
   "id": "35c9aaeb",
   "metadata": {},
   "source": [
    "## Preparando Setup do código"
   ]
  },
  {
   "cell_type": "code",
   "execution_count": 1,
   "id": "11179690",
   "metadata": {},
   "outputs": [],
   "source": [
    "# Bibliotecas necessarias\n",
    "import numpy as np\n",
    "import pandas as pd\n",
    "\n",
    "# Importando modelos usados\n",
    "from sklearn.linear_model import LogisticRegression\n",
    "from sklearn.tree import DecisionTreeClassifier\n",
    "\n",
    "# Objetos necessarios para validação \n",
    "from sklearn.metrics import accuracy_score\n",
    "from sklearn.model_selection import RepeatedKFold"
   ]
  },
  {
   "cell_type": "markdown",
   "id": "df2ba2c1",
   "metadata": {},
   "source": [
    "## Lendo e carregando dados"
   ]
  },
  {
   "cell_type": "code",
   "execution_count": 2,
   "id": "df70147c",
   "metadata": {},
   "outputs": [],
   "source": [
    "train_path = './data/train.csv'\n",
    "test_path = './data/test.csv'\n",
    "\n",
    "train_data = pd.read_csv(train_path)\n",
    "test_data = pd.read_csv(test_path)"
   ]
  },
  {
   "cell_type": "code",
   "execution_count": 3,
   "id": "592da04e",
   "metadata": {},
   "outputs": [
    {
     "data": {
      "text/html": [
       "<div>\n",
       "<style scoped>\n",
       "    .dataframe tbody tr th:only-of-type {\n",
       "        vertical-align: middle;\n",
       "    }\n",
       "\n",
       "    .dataframe tbody tr th {\n",
       "        vertical-align: top;\n",
       "    }\n",
       "\n",
       "    .dataframe thead th {\n",
       "        text-align: right;\n",
       "    }\n",
       "</style>\n",
       "<table border=\"1\" class=\"dataframe\">\n",
       "  <thead>\n",
       "    <tr style=\"text-align: right;\">\n",
       "      <th></th>\n",
       "      <th>PassengerId</th>\n",
       "      <th>Survived</th>\n",
       "      <th>Pclass</th>\n",
       "      <th>Name</th>\n",
       "      <th>Sex</th>\n",
       "      <th>Age</th>\n",
       "      <th>SibSp</th>\n",
       "      <th>Parch</th>\n",
       "      <th>Ticket</th>\n",
       "      <th>Fare</th>\n",
       "      <th>Cabin</th>\n",
       "      <th>Embarked</th>\n",
       "    </tr>\n",
       "  </thead>\n",
       "  <tbody>\n",
       "    <tr>\n",
       "      <th>0</th>\n",
       "      <td>1</td>\n",
       "      <td>0</td>\n",
       "      <td>3</td>\n",
       "      <td>Braund, Mr. Owen Harris</td>\n",
       "      <td>male</td>\n",
       "      <td>22.0</td>\n",
       "      <td>1</td>\n",
       "      <td>0</td>\n",
       "      <td>A/5 21171</td>\n",
       "      <td>7.2500</td>\n",
       "      <td>NaN</td>\n",
       "      <td>S</td>\n",
       "    </tr>\n",
       "    <tr>\n",
       "      <th>1</th>\n",
       "      <td>2</td>\n",
       "      <td>1</td>\n",
       "      <td>1</td>\n",
       "      <td>Cumings, Mrs. John Bradley (Florence Briggs Th...</td>\n",
       "      <td>female</td>\n",
       "      <td>38.0</td>\n",
       "      <td>1</td>\n",
       "      <td>0</td>\n",
       "      <td>PC 17599</td>\n",
       "      <td>71.2833</td>\n",
       "      <td>C85</td>\n",
       "      <td>C</td>\n",
       "    </tr>\n",
       "    <tr>\n",
       "      <th>2</th>\n",
       "      <td>3</td>\n",
       "      <td>1</td>\n",
       "      <td>3</td>\n",
       "      <td>Heikkinen, Miss. Laina</td>\n",
       "      <td>female</td>\n",
       "      <td>26.0</td>\n",
       "      <td>0</td>\n",
       "      <td>0</td>\n",
       "      <td>STON/O2. 3101282</td>\n",
       "      <td>7.9250</td>\n",
       "      <td>NaN</td>\n",
       "      <td>S</td>\n",
       "    </tr>\n",
       "    <tr>\n",
       "      <th>3</th>\n",
       "      <td>4</td>\n",
       "      <td>1</td>\n",
       "      <td>1</td>\n",
       "      <td>Futrelle, Mrs. Jacques Heath (Lily May Peel)</td>\n",
       "      <td>female</td>\n",
       "      <td>35.0</td>\n",
       "      <td>1</td>\n",
       "      <td>0</td>\n",
       "      <td>113803</td>\n",
       "      <td>53.1000</td>\n",
       "      <td>C123</td>\n",
       "      <td>S</td>\n",
       "    </tr>\n",
       "    <tr>\n",
       "      <th>4</th>\n",
       "      <td>5</td>\n",
       "      <td>0</td>\n",
       "      <td>3</td>\n",
       "      <td>Allen, Mr. William Henry</td>\n",
       "      <td>male</td>\n",
       "      <td>35.0</td>\n",
       "      <td>0</td>\n",
       "      <td>0</td>\n",
       "      <td>373450</td>\n",
       "      <td>8.0500</td>\n",
       "      <td>NaN</td>\n",
       "      <td>S</td>\n",
       "    </tr>\n",
       "  </tbody>\n",
       "</table>\n",
       "</div>"
      ],
      "text/plain": [
       "   PassengerId  Survived  Pclass  \\\n",
       "0            1         0       3   \n",
       "1            2         1       1   \n",
       "2            3         1       3   \n",
       "3            4         1       1   \n",
       "4            5         0       3   \n",
       "\n",
       "                                                Name     Sex   Age  SibSp  \\\n",
       "0                            Braund, Mr. Owen Harris    male  22.0      1   \n",
       "1  Cumings, Mrs. John Bradley (Florence Briggs Th...  female  38.0      1   \n",
       "2                             Heikkinen, Miss. Laina  female  26.0      0   \n",
       "3       Futrelle, Mrs. Jacques Heath (Lily May Peel)  female  35.0      1   \n",
       "4                           Allen, Mr. William Henry    male  35.0      0   \n",
       "\n",
       "   Parch            Ticket     Fare Cabin Embarked  \n",
       "0      0         A/5 21171   7.2500   NaN        S  \n",
       "1      0          PC 17599  71.2833   C85        C  \n",
       "2      0  STON/O2. 3101282   7.9250   NaN        S  \n",
       "3      0            113803  53.1000  C123        S  \n",
       "4      0            373450   8.0500   NaN        S  "
      ]
     },
     "execution_count": 3,
     "metadata": {},
     "output_type": "execute_result"
    }
   ],
   "source": [
    "train_data.head()"
   ]
  },
  {
   "cell_type": "markdown",
   "id": "bfc25cf4",
   "metadata": {},
   "source": [
    "## Engenharia de Features\n",
    "\n",
    "### Função usada para criar coluna relacionada ao sexo do individuo"
   ]
  },
  {
   "cell_type": "code",
   "execution_count": 4,
   "id": "71f84957",
   "metadata": {},
   "outputs": [],
   "source": [
    "def format_sex_column(val):\n",
    "    if val == 'male': \n",
    "        return 1\n",
    "    elif val == 'female': \n",
    "        return 0\n",
    "    else:\n",
    "        return -1"
   ]
  },
  {
   "cell_type": "markdown",
   "id": "6397a9ba",
   "metadata": {},
   "source": [
    "### Criando e formatando colunas categoricas para numericas \n",
    "\n",
    "- __Sex_code__: Representação numerica do sexo.\n",
    "\n",
    "Aqui também são excluidos os valores __Nulos__ presentes na coluna que representa a Idade dos individuos.\n"
   ]
  },
  {
   "cell_type": "code",
   "execution_count": 5,
   "id": "82ee9d61",
   "metadata": {},
   "outputs": [],
   "source": [
    "train_data['Sex_code'] = train_data['Sex'].map(format_sex_column)\n",
    "train_data['Age'].fillna(-1,inplace = True)\n",
    "\n",
    "test_data['Sex_code'] = test_data['Sex'].map(format_sex_column)\n",
    "test_data['Age'].fillna(-1,inplace = True)"
   ]
  },
  {
   "cell_type": "markdown",
   "id": "5394a608",
   "metadata": {},
   "source": [
    "## Treinamento & Validação\n",
    "### selecionando de features e target para treinamento e avaliação do nosso modelo\n",
    "\n",
    "As features escolhidas para o treinamento do modelo foram:\n",
    "   - Sex_code: Variavel definida com base no Sexo do individuo.\n",
    "   - Age: Idade do individuo."
   ]
  },
  {
   "cell_type": "code",
   "execution_count": 6,
   "id": "bd8d7c13",
   "metadata": {},
   "outputs": [],
   "source": [
    "features = ['Sex_code', 'Age']\n",
    "\n",
    "X = train_data[features]\n",
    "y = train_data['Survived']"
   ]
  },
  {
   "cell_type": "code",
   "execution_count": 7,
   "id": "ff432913",
   "metadata": {},
   "outputs": [
    {
     "data": {
      "text/plain": [
       "0.7499972288003225"
      ]
     },
     "execution_count": 7,
     "metadata": {},
     "output_type": "execute_result"
    }
   ],
   "source": [
    "predicts = [] #array que guarda todas as predioções feitas\n",
    "kfold = RepeatedKFold(n_splits = 2, n_repeats = 20, random_state = 42069)\n",
    "\n",
    "for train_index, test_index in kfold.split(X):\n",
    "    # Dados de treino e test\n",
    "    X_train, X_test = X.iloc[train_index], X.iloc[test_index]\n",
    "    y_train, y_test = y.iloc[train_index], y.iloc[test_index]\n",
    "    \n",
    "    # Modelo sendo criado, treinado e predizendo resultados\n",
    "    decisionTree = DecisionTreeClassifier()\n",
    "    decisionTree.fit(X_train,y_train)\n",
    "    decisionTree_result = decisionTree.predict(X_test)\n",
    "    \n",
    "    # Salvando resultados para analise\n",
    "    predicts.append(accuracy_score(y_test,decisionTree_result))\n",
    "\n",
    "np.mean(predicts)"
   ]
  },
  {
   "cell_type": "markdown",
   "id": "7c37c4b3",
   "metadata": {},
   "source": [
    "## Detalhes sobre a tentativa\n",
    "\n",
    "- __Modelo utilizado__: Decision Tree Classifier\n",
    "- __Features usadas para treino__: \"Age\" e \"Sex\"\n",
    "- __Target__: \"Survived\"\n",
    "\n",
    "Utilizando apenas as colunas mais intuitivas e o modelo de arvore de decisão, segundo o __Kaggle__ obtivemos a pontuação de __0.69856__."
   ]
  },
  {
   "cell_type": "markdown",
   "id": "21787041",
   "metadata": {},
   "source": [
    "## Otimização a partir de criação de novas colunas"
   ]
  },
  {
   "cell_type": "markdown",
   "id": "132d7517",
   "metadata": {},
   "source": [
    "### Adicionando outra função para remodelagem de coluna \n",
    "\n",
    "A função em questão nos auxilia na criação de uma nova coluna chamada __Embarked_code__. A função transforma os valores categoricos da coluna '__Embarqued__', de forma que o nosso modelo possa aproveitar suas informações."
   ]
  },
  {
   "cell_type": "code",
   "execution_count": 8,
   "id": "cbe90f4c",
   "metadata": {},
   "outputs": [],
   "source": [
    "def format_embarked_column(val):\n",
    "    if val == 'C':\n",
    "        return 1\n",
    "    elif val == 'Q':\n",
    "        return 2\n",
    "    elif val == 'S':\n",
    "        return 3\n",
    "    else:\n",
    "        return -1"
   ]
  },
  {
   "cell_type": "markdown",
   "id": "e3d205b7",
   "metadata": {},
   "source": [
    "### Criação colunas que serão usadas com features de previsão.\n",
    "\n",
    "- __Embarked_code__: Representação numerica do porto no qual a pessoa embarcou.\n",
    "- __Family_len__: Numero de familiares abordo.\n",
    "\n",
    "As colunas __is_Col__, __is_Major__, __is_Master__, __is_Mr__, __is_Miss__ e __is_Mrs__ são todas relacionadas ao titulo do individuo.\n"
   ]
  },
  {
   "cell_type": "code",
   "execution_count": 9,
   "id": "346f051b",
   "metadata": {},
   "outputs": [],
   "source": [
    "train_data['Embarked_code'] = train_data['Embarked'].map(format_embarked_column)\n",
    "train_data['Family_len'] = train_data['SibSp'] + train_data['Parch']\n",
    "train_data['is_Col'] = train_data['Name'].str.contains('Col')\n",
    "train_data['is_Major'] = train_data['Name'].str.contains('Major')\n",
    "train_data['is_Master'] = train_data['Name'].str.contains('Master')\n",
    "train_data['is_Mr'] = train_data['Name'].str.contains('Mr')\n",
    "train_data['is_Miss'] = train_data['Name'].str.contains('Miss')\n",
    "train_data['is_Mrs'] = train_data['Name'].str.contains('Mrs')\n",
    "\n",
    "test_data['Embarked_code'] = test_data['Embarked'].map(format_embarked_column)\n",
    "test_data['Family_len'] = test_data['SibSp'] + test_data['Parch']\n",
    "test_data['is_Col'] = test_data['Name'].str.contains('Col')\n",
    "test_data['is_Major'] = test_data['Name'].str.contains('Major')\n",
    "test_data['is_Master'] = test_data['Name'].str.contains('Master')\n",
    "test_data['is_Mr'] = test_data['Name'].str.contains('Mr')\n",
    "test_data['is_Miss'] = test_data['Name'].str.contains('Miss')\n",
    "test_data['is_Mrs'] = test_data['Name'].str.contains('Mrs')"
   ]
  },
  {
   "cell_type": "markdown",
   "id": "3b12ee5e",
   "metadata": {},
   "source": [
    "## Treinamento & Validação\n",
    "### selecionando de features e target para treinamento e avaliação do nosso modelo\n",
    "\n",
    "As features escolhidas para o treinamento do modelo foram:\n",
    "   - Sex_code: Variavel definida com base no Sexo do individuo.\n",
    "   - Pclass: Variavel que define com a classe cujo individuo está viajando.\n",
    "   - Age: Idade do individuo.\n",
    "   - Family_len: tamanho da familia do individuo.\n",
    "   - Embarked_code: Codigo que se refere ao local de embarque do individuo.\n",
    "\n",
    "As colunas __is_Col__, __is_Major__, __is_Master__, __is_Mr__, __is_Miss__ e __is_Mrs__ são todas relacionadas ao titulo do individuo."
   ]
  },
  {
   "cell_type": "code",
   "execution_count": 10,
   "id": "2ad39574",
   "metadata": {},
   "outputs": [],
   "source": [
    "features = ['Sex_code', 'Pclass','Age','SibSp',\n",
    "            'Parch', 'Family_len', 'Embarked_code',\n",
    "            'is_Col', 'is_Major', 'is_Master', 'is_Mr', \n",
    "            'is_Miss', 'is_Mrs']\n",
    "\n",
    "X = train_data[features]\n",
    "y = train_data['Survived']"
   ]
  },
  {
   "cell_type": "markdown",
   "id": "a9cbd3b4",
   "metadata": {},
   "source": [
    "## Validação\n",
    "\n",
    "O metodo usado na avaliação do modelo é o conhecido como \"__Cross-Validation__\"."
   ]
  },
  {
   "cell_type": "code",
   "execution_count": 11,
   "id": "2da316e0",
   "metadata": {},
   "outputs": [
    {
     "data": {
      "text/plain": [
       "0.8170077341663727"
      ]
     },
     "execution_count": 11,
     "metadata": {},
     "output_type": "execute_result"
    }
   ],
   "source": [
    "predicts = [] #array que guarda todas as predioções feitas\n",
    "kfold = RepeatedKFold(n_splits = 2, n_repeats = 20, random_state = 56732)\n",
    "\n",
    "for train_index, test_index in kfold.split(X):\n",
    "    # Dados de treino e test\n",
    "    X_train, X_test = X.iloc[train_index], X.iloc[test_index]\n",
    "    y_train, y_test = y.iloc[train_index], y.iloc[test_index]\n",
    "    \n",
    "    # Modelo sendo criado, treinado e predizendo resultados\n",
    "    logist = LogisticRegression(solver = 'liblinear', C = 1, penalty = 'l2', multi_class = 'ovr')\n",
    "    logist.fit(X_train,y_train)\n",
    "    logist_result = logist.predict(X_test)\n",
    "    \n",
    "    # Salvando resultados para analise\n",
    "    predicts.append(accuracy_score(y_test,logist_result))\n",
    "    \n",
    "np.mean(predicts)"
   ]
  },
  {
   "cell_type": "markdown",
   "id": "3ef272fc",
   "metadata": {},
   "source": [
    "## Detalhes sobre a tentativa\n",
    "\n",
    "- __Modelo utilizado__: Logistic Regression\n",
    "- __Features usadas para treino__: \"Age\", \"Sex\", \"Pclass\", \"Age\", \"SibSp\", \"Parch\", \"Family_len\", \"Embarked_code\", \"is_Col\", \"is_Major\", \"is_Master\", \"is_Mr\", \"is_Miss\", \"is_Mrs\"\n",
    "- __Target__: \"Survived\"\n",
    "\n",
    "Após uma mudança de modelo, adição e criação de algumas outras colunas, percebemos um notorio aumento na pontuação de validação. Segundo o __Kaggle__ obtivemos a pontuação de __0.77990__."
   ]
  },
  {
   "cell_type": "markdown",
   "id": "e775b5a3",
   "metadata": {},
   "source": [
    "### Treinamento\n",
    "\n",
    "Treinando o modelo novamente, dessa vez utilizando todo o conjunto de dados de __treino__."
   ]
  },
  {
   "cell_type": "code",
   "execution_count": 12,
   "id": "77d57100",
   "metadata": {},
   "outputs": [
    {
     "data": {
      "text/plain": [
       "LogisticRegression(C=1, multi_class='ovr', solver='liblinear')"
      ]
     },
     "execution_count": 12,
     "metadata": {},
     "output_type": "execute_result"
    }
   ],
   "source": [
    "logist = LogisticRegression(solver = 'liblinear', C = 1, penalty = 'l2', multi_class = 'ovr')\n",
    "logist.fit(X,y)"
   ]
  },
  {
   "cell_type": "markdown",
   "id": "ac0b1416",
   "metadata": {},
   "source": [
    "### Prevendo dados finais"
   ]
  },
  {
   "cell_type": "code",
   "execution_count": 13,
   "id": "46f06333",
   "metadata": {},
   "outputs": [],
   "source": [
    "test_data_fill = test_data[features]\n",
    "resultado_final = logist.predict(test_data_fill)"
   ]
  },
  {
   "cell_type": "markdown",
   "id": "10e4849f",
   "metadata": {},
   "source": [
    "## Criando arquivo de submissão"
   ]
  },
  {
   "cell_type": "code",
   "execution_count": 14,
   "id": "c61111d1",
   "metadata": {},
   "outputs": [],
   "source": [
    "pred = pd.Series(resultado_final, index= test_data['PassengerId'], name = 'Survived')"
   ]
  },
  {
   "cell_type": "code",
   "execution_count": 15,
   "id": "6374a653",
   "metadata": {},
   "outputs": [],
   "source": [
    "pred.to_csv('previsao_regressao_logistica.csv', header = True)"
   ]
  },
  {
   "cell_type": "markdown",
   "id": "1a67cfd1",
   "metadata": {},
   "source": [
    "# Observações finais\n",
    "\n",
    "- __Modelo utilizado__:\n",
    "    Podemos buscar por um modelo que se encaixe ainda mais com o problema em si. Algum modelo que seja mais sensível a mudança de hyper parâmetros e a partir disso seja possível Tunar o modelo.\n",
    "\n",
    "- __Tratamento de dados__:\n",
    "    Um próximo passo a ser tomado, é em relação a um estudo de resultados, dentro do nosso conjunto de validação. Para que a partir disso, nós possamos ter ideia de melhores features a serem usadas."
   ]
  }
 ],
 "metadata": {
  "kernelspec": {
   "display_name": "Python 3 (ipykernel)",
   "language": "python",
   "name": "python3"
  },
  "language_info": {
   "codemirror_mode": {
    "name": "ipython",
    "version": 3
   },
   "file_extension": ".py",
   "mimetype": "text/x-python",
   "name": "python",
   "nbconvert_exporter": "python",
   "pygments_lexer": "ipython3",
   "version": "3.8.10"
  }
 },
 "nbformat": 4,
 "nbformat_minor": 5
}
